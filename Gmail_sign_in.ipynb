{
 "cells": [
  {
   "cell_type": "code",
   "execution_count": null,
   "metadata": {},
   "outputs": [],
   "source": [
    "from imaplib import IMAP4_SSL #Secure connection subclass of imaplib\n",
    "import getpass\n",
    "\n",
    "# firstly change gmail settings\n",
    "# * open your gmail setting and then go to FORWARDING and POP/IMAP section then go to IMAP access: and enable it.\n",
    "#  and allow less secure apps\n",
    "\n",
    "M = IMAP4_SSL('imap.gmail.com')\n",
    "M.login('your email id', 'your password here')\n",
    "\n",
    "typ, datas = M.select('\"[Gmail]/All Mail\"') \n",
    "msg_ids = M.search(None, '(FROM \"email name without @gmail.com\")')\n",
    "data=list(msg_ids)\n",
    "if data[1][0]==b'':\n",
    "    print(\"No\")\n",
    "else:\n",
    "    print(\"yes\")\n",
    "   "
   ]
  }
 ],
 "metadata": {
  "kernelspec": {
   "display_name": "Python 3",
   "language": "python",
   "name": "python3"
  },
  "language_info": {
   "codemirror_mode": {
    "name": "ipython",
    "version": 3
   },
   "file_extension": ".py",
   "mimetype": "text/x-python",
   "name": "python",
   "nbconvert_exporter": "python",
   "pygments_lexer": "ipython3",
   "version": "3.6.5"
  }
 },
 "nbformat": 4,
 "nbformat_minor": 2
}
